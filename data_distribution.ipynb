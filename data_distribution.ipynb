{
 "cells": [
  {
   "cell_type": "code",
   "execution_count": null,
   "id": "46c78639",
   "metadata": {},
   "outputs": [],
   "source": [
    "\n",
    "import ROOT\n",
    "import pandas as pd\n",
    "import numpy as np\n",
    "import matplotlib.pyplot as plt\n",
    "from library.trigger_efficiency_ML import *\n",
    "from IPython.display import display\n",
    "\n",
    "import warnings\n",
    "warnings.filterwarnings(\"ignore\")"
   ]
  },
  {
   "cell_type": "code",
   "execution_count": 7,
   "id": "7ec2444e",
   "metadata": {},
   "outputs": [],
   "source": [
    "version = input(\"Enter the version you want (e.g. v1): \")\n",
    "run_name = input(\"Enter the run name: \")"
   ]
  },
  {
   "cell_type": "code",
   "execution_count": 8,
   "id": "4232cc5a",
   "metadata": {},
   "outputs": [],
   "source": [
    "# --- 0. Configuration ---\n",
    "signal_triggers = [\n",
    "    \"HLT_AK8PFHT800_TrimMass50\",\n",
    "    \"HLT_AK8PFJet400_TrimMass30\",\n",
    "    \"HLT_AK8PFJet500\",\n",
    "    \"HLT_PFJet500\",\n",
    "    \"HLT_PFHT1050\",\n",
    "    \"HLT_PFHT500_PFMET100_PFMHT100_IDTight\",\n",
    "    \"HLT_PFHT700_PFMET85_PFMHT85_IDTight\",\n",
    "    \"HLT_PFHT800_PFMET75_PFMHT75_IDTight\",\n",
    "    \"HLT_DoubleMediumChargedIsoPFTauHPS35_Trk1_eta2p1_Reg\",\n",
    "    \"HLT_MediumChargedIsoPFTau180HighPtRelaxedIso_Trk50_eta2p1\"\n",
    "]\n",
    "\n",
    "signal_trigger   = \"Combo\"\n",
    "\n",
    "reference_triggers = [\"HLT_AK8PFJet260\"]\n",
    "\n",
    "reference_trigger = reference_triggers[0]\n",
    "\n",
    "filter_pass_real = signal_trigger\n",
    "\n",
    "filter_pass_meas = signal_trigger + \"&&\" + reference_trigger\n",
    "\n",
    "filter_all_meas  = reference_trigger\n",
    "\n",
    "all_columns      = [\"HighestPt\", \"HT\", \"MET_pt\", \"mHH\",\"HighestMass\", \"SecondHighestPt\", \n",
    "                    \"SecondHighestMass\", \"FatHT\", \"MET_FatJet\", \"mHHwithMET\", \"HighestEta\", \n",
    "                    \"SecondHighestEta\", \"DeltaEta\", \"DeltaPhi\", \"Combo\", \"HLT_AK8PFJet260\"]"
   ]
  },
  {
   "cell_type": "code",
   "execution_count": 10,
   "id": "0b5d046a",
   "metadata": {},
   "outputs": [
    {
     "name": "stdout",
     "output_type": "stream",
     "text": [
      "Data version v7\n"
     ]
    }
   ],
   "source": [
    "# --- 1. Loading Data ---\n",
    "print(f\"Data version {version}\")\n",
    "if version == \"v1\":\n",
    "    suffix = \"-briar\"\n",
    "    df_QCD = ROOT.RDataFrame(\"briar-NewQCD\", \"data/processed/briar/briar-NewQCD.root\")\n",
    "    df_ggF = ROOT.RDataFrame(\"briar-NewggF\", \"data/processed/briar/briar-NewggF.root\")\n",
    "    df_VBF = ROOT.RDataFrame(\"briar-NewVBF\", \"data/processed/briar/briar-NewVBF.root\")\n",
    "    df_DATA = ROOT.RDataFrame(\"briar-NewDATA\", \"data/processed/briar/briar-NewDATA.root\")\n",
    "elif version == \"v2\":\n",
    "    suffix = \"-azura\"\n",
    "    df_QCD = ROOT.RDataFrame(\"azura-NewQCD\", \"data/processed/azura/azura-NewQCD.root\")\n",
    "    df_ggF = ROOT.RDataFrame(\"azura-NewggF\", \"data/processed/azura/azura-NewggF.root\")\n",
    "    df_VBF = ROOT.RDataFrame(\"azura-NewVBF\", \"data/processed/azura/azura-NewVBF.root\")\n",
    "    df_DATA = ROOT.RDataFrame(\"azura-NewDATA\", \"data/processed/azura/azura-NewDATA.root\")\n",
    "elif version == \"v3\":\n",
    "    suffix = \"-ashe\"\n",
    "    df_QCD = ROOT.RDataFrame(\"ashe-NewQCD\", \"data/processed/ashe/ashe-NewQCD.root\")\n",
    "    df_ggF = ROOT.RDataFrame(\"ashe-NewggF\", \"data/processed/ashe/ashe-NewggF.root\")\n",
    "    df_VBF = ROOT.RDataFrame(\"ashe-NewVBF\", \"data/processed/ashe/ashe-NewVBF.root\")\n",
    "    df_DATA = ROOT.RDataFrame(\"ashe-NewDATA\", \"data/processed/ashe/ashe-NewDATA.root\")\n",
    "elif version == \"v4\":\n",
    "    suffix = \"-cypress\"\n",
    "    df_QCD = ROOT.RDataFrame(\"cypress-NewQCD\", \"data/processed/cypress/cypress-NewQCD.root\")\n",
    "    df_ggF = ROOT.RDataFrame(\"cypress-NewggF\", \"data/processed/cypress/cypress-NewggF.root\")\n",
    "    df_VBF = ROOT.RDataFrame(\"cypress-NewVBF\", \"data/processed/cypress/cypress-NewVBF.root\")\n",
    "    df_DATA = ROOT.RDataFrame(\"cypress-NewDATA\", \"data/processed/cypress/cypress-NewDATA.root\")\n",
    "elif version == \"v5\":\n",
    "    suffix = \"-testing\"\n",
    "    df_QCD = ROOT.RDataFrame(\"testing-NewQCD\", \"data/processed/testing/testing-NewQCD.root\")\n",
    "    df_ggF = ROOT.RDataFrame(\"testing-NewggF\", \"data/processed/testing/testing-NewggF.root\")\n",
    "    df_VBF = ROOT.RDataFrame(\"testing-NewVBF\", \"data/processed/testing/testing-NewVBF.root\")\n",
    "    df_DATA = ROOT.RDataFrame(\"testing-NewDATA\", \"data/processed/testing/testing-NewDATA.root\")\n",
    "elif version == \"v6\":\n",
    "    suffix = \"-newQCD\"\n",
    "    df_QCD = ROOT.RDataFrame(\"newQCD-NewQCD\", \"data/processed/newQCD/newQCD-NewQCD.root\")\n",
    "    df_ggF = ROOT.RDataFrame(\"newQCD-NewggF\", \"data/processed/newQCD/newQCD-NewggF.root\")\n",
    "    df_VBF = ROOT.RDataFrame(\"newQCD-NewVBF\", \"data/processed/newQCD/newQCD-NewVBF.root\")\n",
    "    df_DATA = ROOT.RDataFrame(\"newQCD-NewDATA\", \"data/processed/newQCD/newQCD-NewDATA.root\")\n",
    "elif version == \"v7\":\n",
    "    suffix = \"-oldQCD\"\n",
    "    df_QCD = ROOT.RDataFrame(\"oldQCD-NewQCD\", \"data/processed/oldQCD/oldQCD-NewQCD.root\")\n",
    "    df_ggF = ROOT.RDataFrame(\"oldQCD-NewggF\", \"data/processed/oldQCD/oldQCD-NewggF.root\")\n",
    "    df_VBF = ROOT.RDataFrame(\"oldQCD-NewVBF\", \"data/processed/oldQCD/oldQCD-NewVBF.root\")\n",
    "    df_DATA = ROOT.RDataFrame(\"oldQCD-NewDATA\", \"data/processed/oldQCD/oldQCD-NewDATA.root\")"
   ]
  },
  {
   "cell_type": "markdown",
   "id": "cb2a640c",
   "metadata": {},
   "source": [
    "# Distribution v1"
   ]
  },
  {
   "cell_type": "code",
   "execution_count": null,
   "id": "8aeba1a6",
   "metadata": {},
   "outputs": [],
   "source": [
    "# Create lists for distributions of events passing the signal trigger and all events in the simulation samples\n",
    "\n",
    "variable_list, names_list, names_list_and_signal_trigger, names_list_plot, range_min_list, range_max_list, num_bins_list, y_min_list, y_max_list = define_parameter(\"dist\")\n",
    "\n",
    "num_QCD_list = []\n",
    "denom_QCD_list = []\n",
    "num_ggF_list = []\n",
    "denom_ggF_list = []\n",
    "num_VBF_list = []\n",
    "denom_VBF_list = []\n",
    "all_nums_and_denoms = []\n",
    "\n",
    "y_range_list = [1000 for t in range(len(variable_list))]\n",
    "\n",
    "for j in range(len(range_min_list)):\n",
    "    num_QCD, denom_QCD = numerator_and_denominator(df_QCD, \"QCD\", filter_pass_real, filter_pass_meas, filter_all_meas, variable_list[j], names_list[j], names_list_plot[j], y_range_list[j], run_name, suffix)\n",
    "    num_QCD_list.append(num_QCD)\n",
    "    denom_QCD_list.append(denom_QCD)\n",
    "\n",
    "    num_ggF, denom_ggF = numerator_and_denominator(df_ggF, \"ggF\", filter_pass_real, filter_pass_meas, filter_all_meas, variable_list[j], names_list[j], names_list_plot[j], y_range_list[j], run_name, suffix)\n",
    "    num_ggF_list.append(num_ggF)\n",
    "    denom_ggF_list.append(denom_ggF)\n",
    "\n",
    "    num_VBF, denom_VBF = numerator_and_denominator(df_VBF, \"VBF\", filter_pass_real, filter_pass_meas, filter_all_meas, variable_list[j], names_list[j], names_list_plot[j], y_range_list[j], run_name, suffix)\n",
    "    num_VBF_list.append(num_VBF)\n",
    "    denom_VBF_list.append(denom_VBF)\n",
    "\n",
    "    # Combine all nums and denoms for this iteration into a single list and append to all_numsa_and_denoms\n",
    "    combined_list = [num_QCD, denom_QCD, num_ggF, denom_ggF, num_VBF, denom_VBF]\n",
    "    all_nums_and_denoms.append(combined_list)"
   ]
  },
  {
   "cell_type": "code",
   "execution_count": null,
   "id": "a6dfb8b5",
   "metadata": {},
   "outputs": [],
   "source": [
    "# Distributions of all the simulation samples in the same plot\n",
    "# variable_list, names_list, names_list_and_signal_trigger, names_list_plot, range_min_list, range_max_list, num_bins_list, y_min_list, y_max_list = define_parameter(\"dist\")\n",
    "\n",
    "y_range_list = [1100, 1200, 2700, 2500, 10000, 1300, 5400, 1200, 2700, 2300, 20000, 25000, 17000, 12000]\n",
    "\n",
    "color_list   = [ROOT.kViolet, ROOT.kAzure-5, ROOT.kRed+1, ROOT.kOrange+2, ROOT.kGray+3, ROOT.kGreen+2]\n",
    "\n",
    "legend_list  = [\"#splitline{QCD events passing the}{signal trigger}\", \"QCD all events\", \"#splitline{ggF events passing the}{signal trigger}\",\n",
    "               \"ggF all events\", \"#splitline{VBF events passing the}{signal trigger}\", \"VBF all events\"]\n",
    "\n",
    "for i in range(len(num_QCD_list)):\n",
    "    draw_histograms_same(all_nums_and_denoms[i], color_list, y_range_list[i], legend_list, names_list_plot[i], \"Events\", \"Distribution_MC_\" + names_list[i] + \".png\", \"QCD\", suffix)"
   ]
  },
  {
   "cell_type": "code",
   "execution_count": null,
   "id": "3cfe2fe2",
   "metadata": {},
   "outputs": [],
   "source": [
    "# Distributions of event passing the reference trigger and signal and reference trigger for the data sample\n",
    "y_range_list = [700, 600, 2300, 1300, 6000, 800, 4100, 600, 1600, 1200, 7000, 7000, 5000, 9000]\n",
    "num_DATA_list   = []\n",
    "denom_DATA_list = []\n",
    "\n",
    "for j in range(len(range_min_list)):\n",
    "    num_DATA, denom_DATA = numerator_and_denominator(df_DATA, \"DATA\", filter_pass_real, filter_pass_meas, filter_all_meas, variable_list[j], names_list[j], names_list_plot[j], y_range_list[j], run_name, suffix)\n",
    "    num_DATA_list.append(num_DATA)\n",
    "    denom_DATA_list.append(denom_DATA)"
   ]
  },
  {
   "cell_type": "markdown",
   "id": "e354612b",
   "metadata": {},
   "source": [
    "# Distribution v2"
   ]
  },
  {
   "cell_type": "code",
   "execution_count": null,
   "id": "25edb5c2",
   "metadata": {},
   "outputs": [],
   "source": [
    "# Create lists for distributions of events passing the signal trigger and all events in the simulation samples\n",
    "\n",
    "variable_list, names_list, names_list_and_signal_trigger, names_list_plot, range_min_list, range_max_list, num_bins_list, y_min_list, y_max_list = define_parameter(\"dist\")\n",
    "\n",
    "sig_QCD_list = []; all_QCD_list = []; sar_QCD_list = []; ref_QCD_list = []\n",
    "sig_ggF_list = []; all_ggF_list = []; sar_ggF_list = []; ref_ggF_list = []\n",
    "sig_VBF_list = []; all_VBF_list = []; sar_VBF_list = []; ref_VBF_list = []\n",
    "all_meas_list = []\n",
    "all_real_list = []\n",
    "\n",
    "for j in range(len(range_min_list)):\n",
    "    sig_QCD, all_QCD, sar_QCD, ref_QCD = comparing_plot(df_QCD, \"QCD\", filter_pass_real, filter_pass_meas, filter_all_meas, variable_list[j], names_list[j], names_list_plot[j], run_name, suffix)\n",
    "    sig_QCD_list.append(sig_QCD); all_QCD_list.append(all_QCD)\n",
    "    sar_QCD_list.append(sar_QCD); ref_QCD_list.append(ref_QCD)\n",
    "\n",
    "    sig_ggF, all_ggF, sar_ggF, ref_ggF = comparing_plot(df_ggF, \"ggF\", filter_pass_real, filter_pass_meas, filter_all_meas, variable_list[j], names_list[j], names_list_plot[j], run_name, suffix)\n",
    "    sig_ggF_list.append(sig_ggF); all_ggF_list.append(all_ggF)\n",
    "    sar_ggF_list.append(sar_ggF); ref_ggF_list.append(ref_ggF)\n",
    "\n",
    "    sig_VBF, all_VBF, sar_VBF, ref_VBF = comparing_plot(df_VBF, \"VBF\", filter_pass_real, filter_pass_meas, filter_all_meas, variable_list[j], names_list[j], names_list_plot[j], run_name, suffix)\n",
    "    sig_VBF_list.append(sig_VBF); all_VBF_list.append(all_VBF)\n",
    "    sar_VBF_list.append(sar_VBF); ref_VBF_list.append(ref_VBF)\n",
    "\n",
    "    # Combine all nums and denoms for this iteration into a single list and append to all_numsa_and_denoms\n",
    "    real_combined_list = [sig_QCD, all_QCD, sig_ggF, all_ggF, sig_VBF, all_VBF]\n",
    "    meas_combined_list = [sar_QCD, ref_QCD, sar_ggF, ref_ggF, sar_VBF, ref_VBF]\n",
    "    all_meas_list.append(meas_combined_list)\n",
    "    all_real_list.append(real_combined_list)"
   ]
  },
  {
   "cell_type": "code",
   "execution_count": null,
   "id": "1f1142bd",
   "metadata": {},
   "outputs": [],
   "source": [
    "# Distributions of all the simulation samples in the same plot\n",
    "# variable_list, names_list, names_list_and_signal_trigger, names_list_plot, range_min_list, range_max_list, num_bins_list, y_min_list, y_max_list = define_parameter(\"dist\")\n",
    "\n",
    "y_range_list = [1100, 1200, 2700, 2500, 10000, 1300, 5400, 1200, 2700, 2300, 20000, 25000, 17000, 12000]\n",
    "\n",
    "color_list   = [ROOT.kViolet, ROOT.kAzure-5, ROOT.kRed+1, ROOT.kOrange+2, ROOT.kGray+3, ROOT.kGreen+2]\n",
    "\n",
    "legend_list  = [\"#splitline{QCD events passing the}{signal trigger}\", \"QCD all events\", \"#splitline{ggF events passing the}{signal trigger}\",\n",
    "               \"ggF all events\", \"#splitline{VBF events passing the}{signal trigger}\", \"VBF all events\"]\n",
    "\n",
    "for i in range(len(sig_QCD_list)):\n",
    "    draw_histograms_same(all_real_list[i], color_list, y_range_list[i], legend_list, names_list_plot[i], \"Events\", \"Distribution_MC_\" + names_list[i] + \"_real\" + \".png\", \"QCD\", suffix)\n",
    "    draw_histograms_same(all_meas_list[i], color_list, y_range_list[i], legend_list, names_list_plot[i], \"Events\", \"Distribution_MC_\" + names_list[i] + \"_meas\" + \".png\", \"QCD\", suffix)"
   ]
  },
  {
   "cell_type": "code",
   "execution_count": null,
   "id": "758652af",
   "metadata": {},
   "outputs": [],
   "source": [
    "# Distributions of event passing the reference trigger and signal and reference trigger for the data sample\n",
    "y_range_list = [700, 600, 2300, 1300, 6000, 800, 4100, 600, 1600, 1200, 7000, 7000, 5000, 9000]\n",
    "num_DATA_list   = []\n",
    "denom_DATA_list = []\n",
    "\n",
    "for j in range(len(range_min_list)):\n",
    "    num_DATA, denom_DATA = numerator_and_denominator(df_DATA, \"DATA\", filter_pass_real, filter_pass_meas, filter_all_meas, variable_list[j], names_list[j], names_list_plot[j], y_range_list[j], run_name, suffix)\n",
    "    num_DATA_list.append(num_DATA)\n",
    "    denom_DATA_list.append(denom_DATA)"
   ]
  },
  {
   "cell_type": "markdown",
   "id": "3a4b8f13",
   "metadata": {},
   "source": [
    "# Efficiency Plot"
   ]
  },
  {
   "cell_type": "code",
   "execution_count": 11,
   "id": "d51b89cc",
   "metadata": {},
   "outputs": [
    {
     "name": "stdout",
     "output_type": "stream",
     "text": [
      "Directory '/Users/khatran/Documents/CERN/cern-source/project/CMS-trigger-efficiency-briar/result/03-09-2025-oldQCD' not found. Creating new directory for plots.\n"
     ]
    },
    {
     "name": "stderr",
     "output_type": "stream",
     "text": [
      "Info in <TCanvas::Print>: png file /Users/khatran/Documents/CERN/cern-source/project/CMS-trigger-efficiency-briar/result/03-09-2025-oldQCD/QCD_TEfficiency_HighestPt_HLT_AK8PFJet260_Run2.png has been created\n",
      "Info in <TCanvas::Print>: png file /Users/khatran/Documents/CERN/cern-source/project/CMS-trigger-efficiency-briar/result/03-09-2025-oldQCD/QCD_TEfficiency_HT_HLT_AK8PFJet260_Run2.png has been created\n",
      "Info in <TCanvas::Print>: png file /Users/khatran/Documents/CERN/cern-source/project/CMS-trigger-efficiency-briar/result/03-09-2025-oldQCD/QCD_TEfficiency_MET_pt_HLT_AK8PFJet260_Run2.png has been created\n",
      "Info in <TCanvas::Print>: png file /Users/khatran/Documents/CERN/cern-source/project/CMS-trigger-efficiency-briar/result/03-09-2025-oldQCD/QCD_TEfficiency_mHH_HLT_AK8PFJet260_Run2.png has been created\n",
      "Info in <TCanvas::Print>: png file /Users/khatran/Documents/CERN/cern-source/project/CMS-trigger-efficiency-briar/result/03-09-2025-oldQCD/QCD_TEfficiency_HighestMass_HLT_AK8PFJet260_Run2.png has been created\n",
      "Info in <TCanvas::Print>: png file /Users/khatran/Documents/CERN/cern-source/project/CMS-trigger-efficiency-briar/result/03-09-2025-oldQCD/QCD_TEfficiency_SecondHighestPt_HLT_AK8PFJet260_Run2.png has been created\n",
      "Info in <TCanvas::Print>: png file /Users/khatran/Documents/CERN/cern-source/project/CMS-trigger-efficiency-briar/result/03-09-2025-oldQCD/QCD_TEfficiency_SecondHighestMass_HLT_AK8PFJet260_Run2.png has been created\n",
      "Info in <TCanvas::Print>: png file /Users/khatran/Documents/CERN/cern-source/project/CMS-trigger-efficiency-briar/result/03-09-2025-oldQCD/QCD_TEfficiency_FatHT_HLT_AK8PFJet260_Run2.png has been created\n",
      "Info in <TCanvas::Print>: png file /Users/khatran/Documents/CERN/cern-source/project/CMS-trigger-efficiency-briar/result/03-09-2025-oldQCD/QCD_TEfficiency_MET_FatJet_HLT_AK8PFJet260_Run2.png has been created\n",
      "Info in <TCanvas::Print>: png file /Users/khatran/Documents/CERN/cern-source/project/CMS-trigger-efficiency-briar/result/03-09-2025-oldQCD/QCD_TEfficiency_mHHwithMET_HLT_AK8PFJet260_Run2.png has been created\n",
      "Info in <TCanvas::Print>: png file /Users/khatran/Documents/CERN/cern-source/project/CMS-trigger-efficiency-briar/result/03-09-2025-oldQCD/QCD_TEfficiency_HighestEta_HLT_AK8PFJet260_Run2.png has been created\n",
      "Info in <TCanvas::Print>: png file /Users/khatran/Documents/CERN/cern-source/project/CMS-trigger-efficiency-briar/result/03-09-2025-oldQCD/QCD_TEfficiency_SecondHighestEta_HLT_AK8PFJet260_Run2.png has been created\n",
      "Info in <TCanvas::Print>: png file /Users/khatran/Documents/CERN/cern-source/project/CMS-trigger-efficiency-briar/result/03-09-2025-oldQCD/QCD_TEfficiency_DeltaEta_HLT_AK8PFJet260_Run2.png has been created\n",
      "Info in <TCanvas::Print>: png file /Users/khatran/Documents/CERN/cern-source/project/CMS-trigger-efficiency-briar/result/03-09-2025-oldQCD/QCD_TEfficiency_DeltaPhi_HLT_AK8PFJet260_Run2.png has been created\n",
      "Info in <TCanvas::Print>: png file /Users/khatran/Documents/CERN/cern-source/project/CMS-trigger-efficiency-briar/result/03-09-2025-oldQCD/ggF_TEfficiency_HighestPt_HLT_AK8PFJet260_Run2.png has been created\n",
      "Info in <TCanvas::Print>: png file /Users/khatran/Documents/CERN/cern-source/project/CMS-trigger-efficiency-briar/result/03-09-2025-oldQCD/ggF_TEfficiency_HT_HLT_AK8PFJet260_Run2.png has been created\n",
      "Info in <TCanvas::Print>: png file /Users/khatran/Documents/CERN/cern-source/project/CMS-trigger-efficiency-briar/result/03-09-2025-oldQCD/ggF_TEfficiency_MET_pt_HLT_AK8PFJet260_Run2.png has been created\n",
      "Info in <TCanvas::Print>: png file /Users/khatran/Documents/CERN/cern-source/project/CMS-trigger-efficiency-briar/result/03-09-2025-oldQCD/ggF_TEfficiency_mHH_HLT_AK8PFJet260_Run2.png has been created\n",
      "Info in <TCanvas::Print>: png file /Users/khatran/Documents/CERN/cern-source/project/CMS-trigger-efficiency-briar/result/03-09-2025-oldQCD/ggF_TEfficiency_HighestMass_HLT_AK8PFJet260_Run2.png has been created\n",
      "Info in <TCanvas::Print>: png file /Users/khatran/Documents/CERN/cern-source/project/CMS-trigger-efficiency-briar/result/03-09-2025-oldQCD/ggF_TEfficiency_SecondHighestPt_HLT_AK8PFJet260_Run2.png has been created\n",
      "Info in <TCanvas::Print>: png file /Users/khatran/Documents/CERN/cern-source/project/CMS-trigger-efficiency-briar/result/03-09-2025-oldQCD/ggF_TEfficiency_SecondHighestMass_HLT_AK8PFJet260_Run2.png has been created\n",
      "Info in <TCanvas::Print>: png file /Users/khatran/Documents/CERN/cern-source/project/CMS-trigger-efficiency-briar/result/03-09-2025-oldQCD/ggF_TEfficiency_FatHT_HLT_AK8PFJet260_Run2.png has been created\n",
      "Info in <TCanvas::Print>: png file /Users/khatran/Documents/CERN/cern-source/project/CMS-trigger-efficiency-briar/result/03-09-2025-oldQCD/ggF_TEfficiency_MET_FatJet_HLT_AK8PFJet260_Run2.png has been created\n",
      "Info in <TCanvas::Print>: png file /Users/khatran/Documents/CERN/cern-source/project/CMS-trigger-efficiency-briar/result/03-09-2025-oldQCD/ggF_TEfficiency_mHHwithMET_HLT_AK8PFJet260_Run2.png has been created\n",
      "Info in <TCanvas::Print>: png file /Users/khatran/Documents/CERN/cern-source/project/CMS-trigger-efficiency-briar/result/03-09-2025-oldQCD/ggF_TEfficiency_HighestEta_HLT_AK8PFJet260_Run2.png has been created\n",
      "Info in <TCanvas::Print>: png file /Users/khatran/Documents/CERN/cern-source/project/CMS-trigger-efficiency-briar/result/03-09-2025-oldQCD/ggF_TEfficiency_SecondHighestEta_HLT_AK8PFJet260_Run2.png has been created\n",
      "Info in <TCanvas::Print>: png file /Users/khatran/Documents/CERN/cern-source/project/CMS-trigger-efficiency-briar/result/03-09-2025-oldQCD/ggF_TEfficiency_DeltaEta_HLT_AK8PFJet260_Run2.png has been created\n",
      "Info in <TCanvas::Print>: png file /Users/khatran/Documents/CERN/cern-source/project/CMS-trigger-efficiency-briar/result/03-09-2025-oldQCD/ggF_TEfficiency_DeltaPhi_HLT_AK8PFJet260_Run2.png has been created\n",
      "Info in <TCanvas::Print>: png file /Users/khatran/Documents/CERN/cern-source/project/CMS-trigger-efficiency-briar/result/03-09-2025-oldQCD/VBF_TEfficiency_HighestPt_HLT_AK8PFJet260_Run2.png has been created\n",
      "Info in <TCanvas::Print>: png file /Users/khatran/Documents/CERN/cern-source/project/CMS-trigger-efficiency-briar/result/03-09-2025-oldQCD/VBF_TEfficiency_HT_HLT_AK8PFJet260_Run2.png has been created\n",
      "Info in <TCanvas::Print>: png file /Users/khatran/Documents/CERN/cern-source/project/CMS-trigger-efficiency-briar/result/03-09-2025-oldQCD/VBF_TEfficiency_MET_pt_HLT_AK8PFJet260_Run2.png has been created\n",
      "Info in <TCanvas::Print>: png file /Users/khatran/Documents/CERN/cern-source/project/CMS-trigger-efficiency-briar/result/03-09-2025-oldQCD/VBF_TEfficiency_mHH_HLT_AK8PFJet260_Run2.png has been created\n",
      "Info in <TCanvas::Print>: png file /Users/khatran/Documents/CERN/cern-source/project/CMS-trigger-efficiency-briar/result/03-09-2025-oldQCD/VBF_TEfficiency_HighestMass_HLT_AK8PFJet260_Run2.png has been created\n",
      "Info in <TCanvas::Print>: png file /Users/khatran/Documents/CERN/cern-source/project/CMS-trigger-efficiency-briar/result/03-09-2025-oldQCD/VBF_TEfficiency_SecondHighestPt_HLT_AK8PFJet260_Run2.png has been created\n",
      "Info in <TCanvas::Print>: png file /Users/khatran/Documents/CERN/cern-source/project/CMS-trigger-efficiency-briar/result/03-09-2025-oldQCD/VBF_TEfficiency_SecondHighestMass_HLT_AK8PFJet260_Run2.png has been created\n",
      "Info in <TCanvas::Print>: png file /Users/khatran/Documents/CERN/cern-source/project/CMS-trigger-efficiency-briar/result/03-09-2025-oldQCD/VBF_TEfficiency_FatHT_HLT_AK8PFJet260_Run2.png has been created\n",
      "Info in <TCanvas::Print>: png file /Users/khatran/Documents/CERN/cern-source/project/CMS-trigger-efficiency-briar/result/03-09-2025-oldQCD/VBF_TEfficiency_MET_FatJet_HLT_AK8PFJet260_Run2.png has been created\n",
      "Info in <TCanvas::Print>: png file /Users/khatran/Documents/CERN/cern-source/project/CMS-trigger-efficiency-briar/result/03-09-2025-oldQCD/VBF_TEfficiency_mHHwithMET_HLT_AK8PFJet260_Run2.png has been created\n",
      "Info in <TCanvas::Print>: png file /Users/khatran/Documents/CERN/cern-source/project/CMS-trigger-efficiency-briar/result/03-09-2025-oldQCD/VBF_TEfficiency_HighestEta_HLT_AK8PFJet260_Run2.png has been created\n",
      "Info in <TCanvas::Print>: png file /Users/khatran/Documents/CERN/cern-source/project/CMS-trigger-efficiency-briar/result/03-09-2025-oldQCD/VBF_TEfficiency_SecondHighestEta_HLT_AK8PFJet260_Run2.png has been created\n",
      "Info in <TCanvas::Print>: png file /Users/khatran/Documents/CERN/cern-source/project/CMS-trigger-efficiency-briar/result/03-09-2025-oldQCD/VBF_TEfficiency_DeltaEta_HLT_AK8PFJet260_Run2.png has been created\n",
      "Info in <TCanvas::Print>: png file /Users/khatran/Documents/CERN/cern-source/project/CMS-trigger-efficiency-briar/result/03-09-2025-oldQCD/VBF_TEfficiency_DeltaPhi_HLT_AK8PFJet260_Run2.png has been created\n"
     ]
    }
   ],
   "source": [
    "samples = [\"QCD\", \"ggF\", \"VBF\"]\n",
    "for sample in samples:\n",
    "    if sample == \"QCD\":\n",
    "        data = df_QCD\n",
    "    elif sample == \"ggF\":\n",
    "        data = df_ggF\n",
    "    elif sample == \"VBF\":\n",
    "        data = df_VBF\n",
    "    \n",
    "    variable_list, names_list, names_list_and_signal_trigger, names_list_plot, range_min_list, range_max_list, num_bins_list, y_min_list, y_max_list = define_parameter(sample)\n",
    "    eff_real_list, eff_meas_list = choosing_reference_trigger(sample, data, variable_list, names_list, names_list_plot, range_min_list, range_max_list, num_bins_list, y_min_list, y_max_list, signal_trigger, reference_trigger, run_name, suffix)"
   ]
  },
  {
   "cell_type": "markdown",
   "id": "43f7bbab",
   "metadata": {},
   "source": [
    "# Distribution Classification Plots"
   ]
  },
  {
   "cell_type": "code",
   "execution_count": null,
   "id": "2af612e9",
   "metadata": {},
   "outputs": [],
   "source": [
    "print(\"Hello World!\")"
   ]
  },
  {
   "cell_type": "code",
   "execution_count": null,
   "id": "6d41949e",
   "metadata": {},
   "outputs": [],
   "source": [
    "variable_list, names_list, names_list_and_signal_trigger, names_list_plot, range_min_list, range_max_list, num_bins_list, y_min_list, y_max_list = define_parameter(\"dist\")\n",
    "\n",
    "df = pd.DataFrame(df_QCD.AsNumpy(columns=names_list_and_signal_trigger))\n",
    "\n",
    "X = df.drop('Combo', axis=1).values\n",
    "y = df['Combo'].astype('int').values\n",
    "\n",
    "display(df)\n",
    "\n",
    "display(X)\n",
    "display(y)\n",
    "\n",
    "for i in range(len(names_list)):\n",
    "    print(names_list[i])\n",
    "\n",
    "    plt.scatter(df[names_list[i]], df['Combo'].astype('int'))\n",
    "    plt.show()"
   ]
  },
  {
   "cell_type": "code",
   "execution_count": null,
   "id": "ec6afb83",
   "metadata": {},
   "outputs": [],
   "source": [
    "a = np.count_nonzero(df[df['MET_pt'] < 100]['Combo'])\n",
    "b = df[df['MET_pt'] < 100]['Combo'].size\n",
    "print(a/b)"
   ]
  },
  {
   "cell_type": "code",
   "execution_count": null,
   "id": "145628a5",
   "metadata": {},
   "outputs": [],
   "source": [
    "a = np.count_nonzero(df[df['MET_FatJet'] > 1500]['Combo'])\n",
    "b = df[df['MET_FatJet'] > 1500]['Combo'].size\n",
    "print(a/b)\n",
    "display(df[df['MET_FatJet'] > 1500])"
   ]
  },
  {
   "cell_type": "code",
   "execution_count": null,
   "id": "586fa067",
   "metadata": {},
   "outputs": [],
   "source": []
  }
 ],
 "metadata": {
  "kernelspec": {
   "display_name": "cern_cms",
   "language": "python",
   "name": "python3"
  },
  "language_info": {
   "codemirror_mode": {
    "name": "ipython",
    "version": 3
   },
   "file_extension": ".py",
   "mimetype": "text/x-python",
   "name": "python",
   "nbconvert_exporter": "python",
   "pygments_lexer": "ipython3",
   "version": "3.12.11"
  }
 },
 "nbformat": 4,
 "nbformat_minor": 5
}
